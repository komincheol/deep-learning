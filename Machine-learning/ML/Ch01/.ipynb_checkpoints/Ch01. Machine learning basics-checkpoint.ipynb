{
 "cells": [
  {
   "cell_type": "markdown",
   "metadata": {},
   "source": [
    "# 1 Machine learning basics"
   ]
  },
  {
   "cell_type": "markdown",
   "metadata": {},
   "source": [
    "## 직접 프로그래밍 하기\n",
    "\n",
    "  - Python\n",
    "  - R\n",
    "  - Java\n",
    "  - 새로운 패키지와 라이브러리들, ...\n",
    "\n",
    "\n",
    "## 비주얼 툴 사용하기\n",
    "\n",
    "  - RapidMiner\n",
    "  - Weka\n",
    "  - Oracle Data Mining\n",
    "  - Tableau \n",
    "  - JMP    : http://www.jmp.com/en_us/home.html\n",
    "  - Orange : http://orange.biolab.si\n",
    "  - Disco  : https://fluxicon.com/disco\n",
    "  - Rattle : http://me2.do/x5jliubo\n",
    "  - 새로운 툴들, ...\n",
    "\n",
    "\n",
    "## 서비스 이용하기\n",
    "\n",
    "  - IBM       : https://www.ibm.com/watson/\n",
    "  - Google    : https://cloud.google.com/prediction/\n",
    "  - Microsoft : https://azure.microsoft.com/ko-kr/services/machine-learning/\n",
    "  - Amazon    : https://aws.amazon.com/ko/machine-learning/\n",
    "  - Oracle    : ... \n",
    "\n",
    "  - 네이버    : http://www.ncloud.com/\n",
    "\n",
    "  - 새로운 회사와 서비스들, ...\n"
   ]
  },
  {
   "cell_type": "markdown",
   "metadata": {},
   "source": [
    "## \"Machine learning is\"\n",
    "\n",
    "  - https://en.wikipedia.org/wiki/Machine_learning\n",
    "  - http://www.sas.com/en_us/insights/analytics/machine-learning.html\n",
    "  - http://whatis.techtarget.com/definition/machine-learning\n",
    "  - https://www.coursera.org/learn/machine-learning\n",
    "\n",
    "\n",
    "  - http://www.whydsp.org/237 : 기계학습 / 머신러닝 기초 ( Machine Learning Basics )\n",
    "\n",
    "\n",
    "## 추천 강의\n",
    "\n",
    "  - Machine Learning by Andrew Ng    \n",
    "    - https://www.coursera.org/learn/machine-learning/home 과정을 수강신청하세요\n",
    "    - 세계적으로 유명한 강의이며 한글 자막이 나옵니다\n",
    "    - 그리고 폰에 코세라 앱을 설치하세요\n",
    "\n",
    "\n",
    "  - 김성훈 교수님의 강의 및 자료\n",
    "    - https://hunkim.github.io/ml \n",
    "\n",
    "\n",
    "  - Dr.Noureddin Sadawi   \n",
    "    - https://www.youtube.com/user/DrNoureddinSadawi/playlists"
   ]
  },
  {
   "cell_type": "markdown",
   "metadata": {},
   "source": [
    "## 그 외\n",
    "* Data Exploration and Analysis\n",
    "* Model Evaluation (Classification & Regression)\n",
    "* Data Mining Algorithms\n",
    "\n",
    "* A Practical Introduction to Genetic Algorithms\n",
    "\n",
    "* A Practical Introduction to Simulated Annealing"
   ]
  },
  {
   "cell_type": "markdown",
   "metadata": {},
   "source": [
    "## 머신러닝 알고리즘\n",
    "\n",
    "\n",
    "### An Introduction to Data Mining\n",
    "\n",
    "  http://www.saedsayad.com\n",
    "\n"
   ]
  },
  {
   "cell_type": "markdown",
   "metadata": {},
   "source": [
    "## 1.2 Key terminology\n",
    "\n",
    "  * Feature: 특징\n",
    "  * 수치형 데이터, 명목형 데이터\n",
    "  * Classification: 분류\n",
    "  * Class: 분류 항목\n",
    "  * Training set\n",
    "  * Training examples\n",
    "  * Target variable (통계: dependent variable)\n",
    "  * Test set\n",
    "  * Knowledge representation: 지식 표현\n",
    "  "
   ]
  },
  {
   "cell_type": "markdown",
   "metadata": {},
   "source": [
    "## 1.3 Key tasks of machine learning\n",
    "  - 표 1.2 참고(교재 p.12)\n",
    "  \n",
    "  \n",
    "  * A Tour of Machine Learning Algorithms\n",
    "    - http://machinelearningmastery.com/a-tour-of-machine-learning-algorithms/"
   ]
  },
  {
   "cell_type": "markdown",
   "metadata": {},
   "source": [
    "## 1.4 How to choose the right algorithm\n",
    "  1. 목표/목적(goal) 고려\n",
    "  2. 보유하고 있는 데이터 고려\n",
    "  \n",
    "  \n",
    "  * How to choose algorithms for Microsoft Azure Machine Learning\n",
    "  \n",
    "    - (한글) https://azure.microsoft.com/ko-kr/documentation/articles/machine-learning-algorithm-choice/\n",
    "    - (영어) https://azure.microsoft.com/en-us/documentation/articles/machine-learning-algorithm-choice/\n",
    "\n",
    "  \n",
    "  * Choosing the right estimator\n",
    "    - http://scikit-learn.org/stable/tutorial/machine_learning_map/index.html\n",
    "\n"
   ]
  },
  {
   "cell_type": "markdown",
   "metadata": {},
   "source": [
    "## 1.5 Steps in developing a machine learning application\n",
    "\n",
    "1. 데이터 수집(Collect data)\n",
    "    - 다양한 소스(원천)과 방법\n",
    "2. 입력 데이터 준비(Prepare the input data)\n",
    "    - 수집한 데이터를 유용한 형식으로 변환\n",
    "3. 입력 데이터 분석(Analyze the input data)\n",
    "    - 데이터를 주의 깊게 보고자하는 단계\n",
    "4. 알고리즘 훈련(Training)\n",
    "    - 기계 학습이 이루어지는 단계\n",
    "5. 알고리즘 데스트\n",
    "    - 이전 단계에서 학습된 정보를 사용하는 단계\n",
    "6. 사용하기\n",
    "    - 애플리케이션을 위한 실질적인 프로그램 만들기"
   ]
  },
  {
   "cell_type": "markdown",
   "metadata": {},
   "source": [
    "## 학습/개발 환경 준비\n",
    "  * Python 2.7, Python 3.6 두 가지"
   ]
  },
  {
   "cell_type": "raw",
   "metadata": {},
   "source": [
    "(C:\\Anaconda3) C:\\Users\\IceMan>conda create --name ml27 python=2.7 numpy ipython-notebook\n",
    "(C:\\Anaconda3) C:\\Users\\IceMan>activate ml27\n",
    "\n",
    "(ml27) C:\\Users\\IceMan>conda create --name ml35 python=3.5 numpy ipython\n",
    "\n",
    "(ml36) C:\\Users\\IceMan>activate ml36"
   ]
  },
  {
   "cell_type": "code",
   "execution_count": null,
   "metadata": {
    "collapsed": true
   },
   "outputs": [],
   "source": []
  }
 ],
 "metadata": {
  "kernelspec": {
   "display_name": "Python 3",
   "language": "python",
   "name": "python3"
  },
  "language_info": {
   "codemirror_mode": {
    "name": "ipython",
    "version": 3
   },
   "file_extension": ".py",
   "mimetype": "text/x-python",
   "name": "python",
   "nbconvert_exporter": "python",
   "pygments_lexer": "ipython3",
   "version": "3.6.1"
  }
 },
 "nbformat": 4,
 "nbformat_minor": 2
}
